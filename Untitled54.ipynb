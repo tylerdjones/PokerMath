{
 "cells": [
  {
   "cell_type": "code",
   "execution_count": 1,
   "id": "174e19e9",
   "metadata": {},
   "outputs": [],
   "source": [
    "import pandas as pd\n",
    "import numpy as np"
   ]
  },
  {
   "cell_type": "code",
   "execution_count": 2,
   "id": "61eb316b",
   "metadata": {},
   "outputs": [],
   "source": [
    "ranks = ['2', '3', '4', '5', '6', '7', '8', '9', '10', 'J', 'Q', 'K', 'A']\n",
    "suits = ['H', 'C', 'D', 'S']"
   ]
  },
  {
   "cell_type": "code",
   "execution_count": 3,
   "id": "1bac28aa",
   "metadata": {},
   "outputs": [],
   "source": [
    "deck = []\n",
    "for x in ranks:\n",
    "    for y in suits:\n",
    "        deck.append(f\"{x}{y}\")"
   ]
  },
  {
   "cell_type": "code",
   "execution_count": 4,
   "id": "7a877642",
   "metadata": {},
   "outputs": [],
   "source": [
    "def shuffle(*args):\n",
    "    a = deck.copy()\n",
    "    for x in args:\n",
    "        a.remove(x)\n",
    "    return a"
   ]
  },
  {
   "cell_type": "code",
   "execution_count": 5,
   "id": "aaa987dc",
   "metadata": {},
   "outputs": [],
   "source": [
    "vals = {}\n",
    "for x in deck:\n",
    "    a = x[:-1]\n",
    "    if a not in ['J', 'Q', 'K', 'A']:\n",
    "        vals[x] = int(a)\n",
    "    elif a == 'J':\n",
    "        vals[x] = 11\n",
    "    elif a == 'Q':\n",
    "        vals[x] = 12\n",
    "    elif a == 'K':\n",
    "        vals[x] = 13\n",
    "    else:\n",
    "        vals[x] = [1,14]"
   ]
  },
  {
   "cell_type": "code",
   "execution_count": 6,
   "id": "ab1d4b49",
   "metadata": {},
   "outputs": [],
   "source": [
    "vals2 = {}\n",
    "for x in ranks:\n",
    "    if x not in ['J', 'Q', 'K', 'A']:\n",
    "        vals2[x] = int(x)\n",
    "    elif x == 'J':\n",
    "        vals2[x] = 11\n",
    "    elif x == 'Q':\n",
    "        vals2[x] = 12\n",
    "    elif x == 'K':\n",
    "        vals2[x] = 13\n",
    "    else:\n",
    "        vals2[x] = [1,14]"
   ]
  },
  {
   "cell_type": "code",
   "execution_count": 7,
   "id": "cfaa3976",
   "metadata": {},
   "outputs": [],
   "source": [
    "def HighCard(hand):\n",
    "    hold = []\n",
    "    for x in hand:\n",
    "        hold.append(x[:-1])\n",
    "    value = []\n",
    "    for x in hold:\n",
    "        if x == 'A':\n",
    "            value.append(vals2[x][1])\n",
    "        else:\n",
    "            value.append(vals2[x])\n",
    "    return 1, sorted(value, reverse = True)"
   ]
  },
  {
   "cell_type": "code",
   "execution_count": 8,
   "id": "4833d582",
   "metadata": {},
   "outputs": [],
   "source": [
    "def Pair(hand):\n",
    "    hold = []\n",
    "    for x in hand:\n",
    "        hold.append(x[:-1])\n",
    "    value = []\n",
    "    for x in hold:\n",
    "        if x == 'A':\n",
    "            value.append(vals2[x][1])\n",
    "        else:\n",
    "            value.append(vals2[x])\n",
    "    found = False\n",
    "    pr = 0\n",
    "    for x in value:\n",
    "        foundpair = value.count(x)\n",
    "        if foundpair > 1:\n",
    "            found = True\n",
    "            pr += x\n",
    "            break\n",
    "    if found == True:\n",
    "        for i in range(2):\n",
    "            value.remove(pr)\n",
    "        return 2, pr, sorted(value, reverse = True)"
   ]
  },
  {
   "cell_type": "code",
   "execution_count": 9,
   "id": "5d7f08c2",
   "metadata": {},
   "outputs": [],
   "source": [
    "def TwoPair(hand):\n",
    "    hold = []\n",
    "    for x in hand:\n",
    "        hold.append(x[:-1])\n",
    "    value = []\n",
    "    for x in hold:\n",
    "        if x == 'A':\n",
    "            value.append(vals2[x][1])\n",
    "        else:\n",
    "            value.append(vals2[x])\n",
    "    found = False\n",
    "    pr = []\n",
    "    for x in value:\n",
    "        foundpair = value.count(x)\n",
    "        if (foundpair > 1) & (x not in pr):\n",
    "            pr.append(x)\n",
    "        elif (foundpair > 1) & (x not in pr) & (len(pr) > 0):\n",
    "            pr.append(x)\n",
    "    if len(pr) > 1:\n",
    "        found = True\n",
    "    if found == True:\n",
    "        for i in range(2):\n",
    "            for y in pr:\n",
    "                value.remove(y)\n",
    "        return 3, sorted(pr, reverse = True), sorted(value, reverse = True)"
   ]
  },
  {
   "cell_type": "code",
   "execution_count": 10,
   "id": "088515ee",
   "metadata": {},
   "outputs": [],
   "source": [
    "def ThreeOAK(hand):\n",
    "    hold = []\n",
    "    for x in hand:\n",
    "        hold.append(x[:-1])\n",
    "    value = []\n",
    "    for x in hold:\n",
    "        if x == 'A':\n",
    "            value.append(vals2[x][1])\n",
    "        else:\n",
    "            value.append(vals2[x])\n",
    "    found = False\n",
    "    pr = 0\n",
    "    for x in value:\n",
    "        foundpair = value.count(x)\n",
    "        if foundpair == 3:\n",
    "            pr += x\n",
    "            found = True\n",
    "            break\n",
    "    if found == True:\n",
    "        for i in range(3):\n",
    "            value.remove(pr)\n",
    "        return 4, pr, sorted(value, reverse = True)"
   ]
  },
  {
   "cell_type": "code",
   "execution_count": 11,
   "id": "94c41fb9",
   "metadata": {},
   "outputs": [],
   "source": [
    "def Straight(hand):\n",
    "    hold = []\n",
    "    for x in hand:\n",
    "        hold.append(x[:-1])\n",
    "    value = []\n",
    "    for x in hold:\n",
    "        if x == 'A':\n",
    "            if ('2' in hold) & ('3' in hold) & ('4' in hold):\n",
    "                value.append(vals2[x][0])\n",
    "            else:\n",
    "                value.append(vals2[x][1])\n",
    "        else:\n",
    "            value.append(vals2[x])\n",
    "    sortval = sorted(value)\n",
    "    straight = True\n",
    "    for i in range(len(sortval) - 1):\n",
    "        if sortval[i] + 1 != sortval[i+1]:\n",
    "            straight = False\n",
    "            break\n",
    "    if straight == True:\n",
    "        return 5, sorted(sortval, reverse = True)"
   ]
  },
  {
   "cell_type": "code",
   "execution_count": 12,
   "id": "31b393be",
   "metadata": {},
   "outputs": [],
   "source": [
    "def Flush(hand):\n",
    "    hold = []\n",
    "    holds = []\n",
    "    for x in hand:\n",
    "        hold.append(x[:-1])\n",
    "        holds.append(x[-1:])\n",
    "    value = []\n",
    "    for x in hold:\n",
    "        if x == 'A':\n",
    "            value.append(vals2[x][1])\n",
    "        else:\n",
    "            value.append(vals2[x])\n",
    "    if len(set(holds)) == 1:\n",
    "        return 6, sorted(value, reverse = True)"
   ]
  },
  {
   "cell_type": "code",
   "execution_count": 13,
   "id": "cf3de0b0",
   "metadata": {},
   "outputs": [],
   "source": [
    "def FullHouse(hand):\n",
    "    hold = []\n",
    "    for x in hand:\n",
    "        hold.append(x[:-1])\n",
    "    value = []\n",
    "    for x in hold:\n",
    "        if x == 'A':\n",
    "            value.append(vals2[x][1])\n",
    "        else:\n",
    "            value.append(vals2[x])\n",
    "    pair = False\n",
    "    pr = 0\n",
    "    toak = False\n",
    "    tk = 0\n",
    "    for x in value:\n",
    "        found = value.count(x)\n",
    "        if found == 2:\n",
    "            pr += x\n",
    "            pair = True\n",
    "        elif found == 3:\n",
    "            tk += x\n",
    "            toak = True\n",
    "    if (pair == True) and (toak == True):\n",
    "        return 7, [int(tk/3), int(pr/2)]"
   ]
  },
  {
   "cell_type": "code",
   "execution_count": 14,
   "id": "070cb4e2",
   "metadata": {},
   "outputs": [],
   "source": [
    "def FourOAK(hand):\n",
    "    hold = []\n",
    "    for x in hand:\n",
    "        hold.append(x[:-1])\n",
    "    value = []\n",
    "    for x in hold:\n",
    "        if x == 'A':\n",
    "            value.append(vals2[x][1])\n",
    "        else:\n",
    "            value.append(vals2[x])\n",
    "    foak = False\n",
    "    fk = 0\n",
    "    for x in value:\n",
    "        found = value.count(x)\n",
    "        if found == 4:\n",
    "            fk += x\n",
    "            foak = True\n",
    "            break\n",
    "    if foak == True:\n",
    "        for i in range(4):\n",
    "            value.remove(fk)\n",
    "        return 8, fk, value[0]"
   ]
  },
  {
   "cell_type": "code",
   "execution_count": 15,
   "id": "b7f7db04",
   "metadata": {},
   "outputs": [],
   "source": [
    "def StraightFlush(hand):\n",
    "    st = Straight(hand)\n",
    "    fl = Flush(hand)\n",
    "    if (st != None) and (fl != None):\n",
    "        return 9, st[1]"
   ]
  },
  {
   "cell_type": "code",
   "execution_count": 16,
   "id": "2a808af9",
   "metadata": {},
   "outputs": [],
   "source": [
    "def RoyalFlush(hand):\n",
    "    sf = StraightFlush(hand)\n",
    "    if sf != None:\n",
    "        if (14 in sf[1]) & (13 in sf[1]):\n",
    "            return 10, sf[1]"
   ]
  },
  {
   "cell_type": "code",
   "execution_count": 17,
   "id": "36c51e8b",
   "metadata": {},
   "outputs": [],
   "source": [
    "def result(hand):\n",
    "    functions = [RoyalFlush, StraightFlush, FourOAK, FullHouse, Flush, Straight, ThreeOAK, TwoPair, Pair, HighCard]\n",
    "    res = []\n",
    "    for func in functions:\n",
    "        if func(hand) != None:\n",
    "            res.append(func(hand))\n",
    "            break\n",
    "    return res[0]"
   ]
  },
  {
   "cell_type": "code",
   "execution_count": 19,
   "id": "1687a933",
   "metadata": {},
   "outputs": [],
   "source": [
    "from itertools import combinations\n",
    "from itertools import permutations"
   ]
  },
  {
   "cell_type": "code",
   "execution_count": 20,
   "id": "d46c9222",
   "metadata": {},
   "outputs": [],
   "source": [
    "allhands = list(combinations(deck, 5))"
   ]
  },
  {
   "cell_type": "code",
   "execution_count": 21,
   "id": "169da66c",
   "metadata": {},
   "outputs": [],
   "source": [
    "ah = []\n",
    "for x in allhands:\n",
    "    ah.append(sorted(list(x)))"
   ]
  },
  {
   "cell_type": "code",
   "execution_count": 22,
   "id": "edf20f12",
   "metadata": {},
   "outputs": [],
   "source": [
    "ahdic = {}"
   ]
  },
  {
   "cell_type": "code",
   "execution_count": 23,
   "id": "cbab9428",
   "metadata": {
    "scrolled": true
   },
   "outputs": [],
   "source": [
    "for x in ah:\n",
    "    r = result(x)\n",
    "    ahdic[str(x)] = r"
   ]
  },
  {
   "cell_type": "code",
   "execution_count": 24,
   "id": "4f1277a1",
   "metadata": {},
   "outputs": [],
   "source": [
    "df = pd.DataFrame(list(ahdic.values()))"
   ]
  },
  {
   "cell_type": "code",
   "execution_count": 25,
   "id": "c3cd50a8",
   "metadata": {},
   "outputs": [],
   "source": [
    "l = np.arange(1,11).tolist()"
   ]
  },
  {
   "cell_type": "code",
   "execution_count": 26,
   "id": "66bbb928",
   "metadata": {},
   "outputs": [],
   "source": [
    "newdf = []\n",
    "for x in l:\n",
    "    new = df[df[0] == x]\n",
    "    try:\n",
    "        new = new.sort_values([1,2])\n",
    "    except TypeError:\n",
    "        new = new.sort_values(1)\n",
    "    newdf.append(new)"
   ]
  },
  {
   "cell_type": "code",
   "execution_count": 27,
   "id": "8cc0dd92",
   "metadata": {},
   "outputs": [],
   "source": [
    "newdf = pd.concat(newdf)"
   ]
  },
  {
   "cell_type": "code",
   "execution_count": 28,
   "id": "577b826c",
   "metadata": {},
   "outputs": [],
   "source": [
    "masterlist = sorted(list(ahdic.values()))\n",
    "vals = []\n",
    "num = 0\n",
    "for x in range(len(masterlist)):\n",
    "    if masterlist[x] == masterlist[0]:\n",
    "        num = 0\n",
    "    elif masterlist[x] != masterlist[x-1]:\n",
    "        num += 1\n",
    "    vals.append(num)"
   ]
  },
  {
   "cell_type": "code",
   "execution_count": 29,
   "id": "a506b2a4",
   "metadata": {},
   "outputs": [],
   "source": [
    "valdic = {}\n",
    "for x in range(len(masterlist)):\n",
    "    valdic[str(masterlist[x])] = vals[x]"
   ]
  },
  {
   "cell_type": "code",
   "execution_count": 30,
   "id": "dd48a2ab",
   "metadata": {},
   "outputs": [],
   "source": [
    "def BestHand(*args):\n",
    "    combos = list(combinations(args,5))\n",
    "    co = []\n",
    "    for x in combos:\n",
    "        co.append(sorted(list(x)))\n",
    "    vals = []\n",
    "    for x in co:\n",
    "        r = result(x)\n",
    "        vals.append(valdic[str(r)])\n",
    "    besthand = co[vals.index(max(vals))]\n",
    "    val = max(vals)\n",
    "    return besthand, val"
   ]
  },
  {
   "cell_type": "code",
   "execution_count": 402,
   "id": "6584b503",
   "metadata": {},
   "outputs": [],
   "source": [
    "def SolveSeven(river):\n",
    "    ss = BestHand(river[0], river[1], river[2], river[3], river[4], river[5], river[6])\n",
    "    return ss[0], ss[1]"
   ]
  },
  {
   "cell_type": "code",
   "execution_count": 401,
   "id": "aa2747df",
   "metadata": {},
   "outputs": [],
   "source": [
    "rivers = list(combinations(shuffle(),7))"
   ]
  },
  {
   "cell_type": "code",
   "execution_count": 404,
   "id": "734d132b",
   "metadata": {},
   "outputs": [
    {
     "data": {
      "text/plain": [
       "(['5D', 'AS', 'KD', 'KS', 'QD'], 3910)"
      ]
     },
     "execution_count": 404,
     "metadata": {},
     "output_type": "execute_result"
    }
   ],
   "source": [
    "BestHand('2H', '3C', '5D', 'KS', 'KD', 'AS', 'QD')"
   ]
  },
  {
   "cell_type": "code",
   "execution_count": 403,
   "id": "8a95bc46",
   "metadata": {},
   "outputs": [
    {
     "data": {
      "text/plain": [
       "(['5D', 'AS', 'KD', 'KS', 'QD'], 3910)"
      ]
     },
     "execution_count": 403,
     "metadata": {},
     "output_type": "execute_result"
    }
   ],
   "source": [
    "SolveSeven(['2H', '3C', '5D', 'KS', 'KD', 'AS', 'QD'])"
   ]
  },
  {
   "cell_type": "code",
   "execution_count": 409,
   "id": "7ed82ab1",
   "metadata": {},
   "outputs": [],
   "source": [
    "del rivers"
   ]
  },
  {
   "cell_type": "code",
   "execution_count": 407,
   "id": "305512c7",
   "metadata": {},
   "outputs": [
    {
     "name": "stdout",
     "output_type": "stream",
     "text": [
      "0.0523229287445427265\r"
     ]
    },
    {
     "ename": "KeyboardInterrupt",
     "evalue": "",
     "output_type": "error",
     "traceback": [
      "\u001b[1;31m---------------------------------------------------------------------------\u001b[0m",
      "\u001b[1;31mKeyboardInterrupt\u001b[0m                         Traceback (most recent call last)",
      "Cell \u001b[1;32mIn[407], line 3\u001b[0m\n\u001b[0;32m      1\u001b[0m done \u001b[38;5;241m=\u001b[39m \u001b[38;5;241m0\u001b[39m\n\u001b[0;32m      2\u001b[0m \u001b[38;5;28;01mfor\u001b[39;00m x \u001b[38;5;129;01min\u001b[39;00m rivers:\n\u001b[1;32m----> 3\u001b[0m     \u001b[43mSolveSeven\u001b[49m\u001b[43m(\u001b[49m\u001b[43mx\u001b[49m\u001b[43m)\u001b[49m\n\u001b[0;32m      4\u001b[0m     done \u001b[38;5;241m+\u001b[39m\u001b[38;5;241m=\u001b[39m \u001b[38;5;241m1\u001b[39m\n\u001b[0;32m      5\u001b[0m     \u001b[38;5;28;01mif\u001b[39;00m done \u001b[38;5;241m%\u001b[39m \u001b[38;5;241m1000\u001b[39m \u001b[38;5;241m==\u001b[39m \u001b[38;5;241m0\u001b[39m:\n",
      "Cell \u001b[1;32mIn[402], line 2\u001b[0m, in \u001b[0;36mSolveSeven\u001b[1;34m(river)\u001b[0m\n\u001b[0;32m      1\u001b[0m \u001b[38;5;28;01mdef\u001b[39;00m \u001b[38;5;21mSolveSeven\u001b[39m(river):\n\u001b[1;32m----> 2\u001b[0m     ss \u001b[38;5;241m=\u001b[39m \u001b[43mBestHand\u001b[49m\u001b[43m(\u001b[49m\u001b[43mriver\u001b[49m\u001b[43m[\u001b[49m\u001b[38;5;241;43m0\u001b[39;49m\u001b[43m]\u001b[49m\u001b[43m,\u001b[49m\u001b[43m \u001b[49m\u001b[43mriver\u001b[49m\u001b[43m[\u001b[49m\u001b[38;5;241;43m1\u001b[39;49m\u001b[43m]\u001b[49m\u001b[43m,\u001b[49m\u001b[43m \u001b[49m\u001b[43mriver\u001b[49m\u001b[43m[\u001b[49m\u001b[38;5;241;43m2\u001b[39;49m\u001b[43m]\u001b[49m\u001b[43m,\u001b[49m\u001b[43m \u001b[49m\u001b[43mriver\u001b[49m\u001b[43m[\u001b[49m\u001b[38;5;241;43m3\u001b[39;49m\u001b[43m]\u001b[49m\u001b[43m,\u001b[49m\u001b[43m \u001b[49m\u001b[43mriver\u001b[49m\u001b[43m[\u001b[49m\u001b[38;5;241;43m4\u001b[39;49m\u001b[43m]\u001b[49m\u001b[43m,\u001b[49m\u001b[43m \u001b[49m\u001b[43mriver\u001b[49m\u001b[43m[\u001b[49m\u001b[38;5;241;43m5\u001b[39;49m\u001b[43m]\u001b[49m\u001b[43m,\u001b[49m\u001b[43m \u001b[49m\u001b[43mriver\u001b[49m\u001b[43m[\u001b[49m\u001b[38;5;241;43m6\u001b[39;49m\u001b[43m]\u001b[49m\u001b[43m)\u001b[49m\n\u001b[0;32m      3\u001b[0m     \u001b[38;5;28;01mreturn\u001b[39;00m ss[\u001b[38;5;241m0\u001b[39m], ss[\u001b[38;5;241m1\u001b[39m]\n",
      "Cell \u001b[1;32mIn[30], line 8\u001b[0m, in \u001b[0;36mBestHand\u001b[1;34m(*args)\u001b[0m\n\u001b[0;32m      6\u001b[0m vals \u001b[38;5;241m=\u001b[39m []\n\u001b[0;32m      7\u001b[0m \u001b[38;5;28;01mfor\u001b[39;00m x \u001b[38;5;129;01min\u001b[39;00m co:\n\u001b[1;32m----> 8\u001b[0m     r \u001b[38;5;241m=\u001b[39m \u001b[43mresult\u001b[49m\u001b[43m(\u001b[49m\u001b[43mx\u001b[49m\u001b[43m)\u001b[49m\n\u001b[0;32m      9\u001b[0m     vals\u001b[38;5;241m.\u001b[39mappend(valdic[\u001b[38;5;28mstr\u001b[39m(r)])\n\u001b[0;32m     10\u001b[0m besthand \u001b[38;5;241m=\u001b[39m co[vals\u001b[38;5;241m.\u001b[39mindex(\u001b[38;5;28mmax\u001b[39m(vals))]\n",
      "Cell \u001b[1;32mIn[17], line 5\u001b[0m, in \u001b[0;36mresult\u001b[1;34m(hand)\u001b[0m\n\u001b[0;32m      3\u001b[0m res \u001b[38;5;241m=\u001b[39m []\n\u001b[0;32m      4\u001b[0m \u001b[38;5;28;01mfor\u001b[39;00m func \u001b[38;5;129;01min\u001b[39;00m functions:\n\u001b[1;32m----> 5\u001b[0m     \u001b[38;5;28;01mif\u001b[39;00m \u001b[43mfunc\u001b[49m\u001b[43m(\u001b[49m\u001b[43mhand\u001b[49m\u001b[43m)\u001b[49m \u001b[38;5;241m!=\u001b[39m \u001b[38;5;28;01mNone\u001b[39;00m:\n\u001b[0;32m      6\u001b[0m         res\u001b[38;5;241m.\u001b[39mappend(func(hand))\n\u001b[0;32m      7\u001b[0m         \u001b[38;5;28;01mbreak\u001b[39;00m\n",
      "Cell \u001b[1;32mIn[11], line 4\u001b[0m, in \u001b[0;36mStraight\u001b[1;34m(hand)\u001b[0m\n\u001b[0;32m      2\u001b[0m hold \u001b[38;5;241m=\u001b[39m []\n\u001b[0;32m      3\u001b[0m \u001b[38;5;28;01mfor\u001b[39;00m x \u001b[38;5;129;01min\u001b[39;00m hand:\n\u001b[1;32m----> 4\u001b[0m     hold\u001b[38;5;241m.\u001b[39mappend(x[:\u001b[38;5;241m-\u001b[39m\u001b[38;5;241m1\u001b[39m])\n\u001b[0;32m      5\u001b[0m value \u001b[38;5;241m=\u001b[39m []\n\u001b[0;32m      6\u001b[0m \u001b[38;5;28;01mfor\u001b[39;00m x \u001b[38;5;129;01min\u001b[39;00m hold:\n",
      "\u001b[1;31mKeyboardInterrupt\u001b[0m: "
     ]
    }
   ],
   "source": [
    "done = 0\n",
    "for x in rivers:\n",
    "    SolveSeven(x)\n",
    "    done += 1\n",
    "    if done % 1000 == 0:\n",
    "        print((done*100)/len(rivers), end = '\\r')"
   ]
  },
  {
   "cell_type": "code",
   "execution_count": 37,
   "id": "2c4c15fb",
   "metadata": {},
   "outputs": [],
   "source": [
    "deals = list(combinations(shuffle(),2))"
   ]
  },
  {
   "cell_type": "code",
   "execution_count": 39,
   "id": "0b183921",
   "metadata": {},
   "outputs": [],
   "source": [
    "clas = []\n",
    "va = []\n",
    "ss = []\n",
    "for x in deals:\n",
    "    if x[0][0] == x[1][0]:\n",
    "        clas.append(True)\n",
    "        va.append(str(sorted([x[0][0], x[1][0]])))\n",
    "    else:\n",
    "        clas.append(False)\n",
    "        va.append(str(sorted([x[0][0], x[1][0]])))\n",
    "    if x[0][1] == x[1][1]:\n",
    "        ss.append(True)\n",
    "    else:\n",
    "        ss.append(False)"
   ]
  },
  {
   "cell_type": "code",
   "execution_count": 40,
   "id": "e819ef35",
   "metadata": {},
   "outputs": [],
   "source": [
    "dealdf = pd.DataFrame({'Deal': deals, 'Pair': clas, 'Val': va, 'SS': ss})"
   ]
  },
  {
   "cell_type": "code",
   "execution_count": 41,
   "id": "2c3168bc",
   "metadata": {},
   "outputs": [],
   "source": [
    "dealdf2 = dealdf.drop_duplicates(subset = ['Pair', 'Val', 'SS'])"
   ]
  },
  {
   "cell_type": "code",
   "execution_count": 62,
   "id": "24b2d7b6",
   "metadata": {},
   "outputs": [
    {
     "name": "stdout",
     "output_type": "stream",
     "text": [
      "100%\r"
     ]
    }
   ],
   "source": [
    "handdic = {}\n",
    "for x in deals:\n",
    "    xx = x[0]\n",
    "    xxx = x[1]\n",
    "    app = []\n",
    "    for y in list(ahdic):\n",
    "        if (xx in y) and (xxx in y):\n",
    "            app.append(y)\n",
    "    handdic[x] = app\n",
    "    print(f\"{int(len(handdic)*100/len(deals))}%\", end = '\\r')"
   ]
  },
  {
   "cell_type": "code",
   "execution_count": 83,
   "id": "70236570",
   "metadata": {},
   "outputs": [
    {
     "name": "stdout",
     "output_type": "stream",
     "text": [
      "1325 out of 1326\r"
     ]
    }
   ],
   "source": [
    "newvals = []\n",
    "for x in handdic:\n",
    "    meanval = []\n",
    "    for y in handdic[x]:\n",
    "        xx = str(y)\n",
    "        rr = valdic[str(ahdic[xx])]\n",
    "        meanval.append(rr)\n",
    "    newvals.append(sum(meanval)/len(meanval))\n",
    "    print(f\"{list(handdic).index(x)} out of {len(list(handdic))}\", end = '\\r')"
   ]
  },
  {
   "cell_type": "code",
   "execution_count": 90,
   "id": "7aeb38d9",
   "metadata": {},
   "outputs": [],
   "source": [
    "dealvals = pd.DataFrame({'Deal': list(handdic), 'Value': newvals})"
   ]
  },
  {
   "cell_type": "code",
   "execution_count": 121,
   "id": "33b09218",
   "metadata": {},
   "outputs": [],
   "source": [
    "dealvals['adjVal'] = ((dealvals['Value'] - dealvals['Value'].min()) / (dealvals['Value'].max() - dealvals['Value'].min()))"
   ]
  },
  {
   "cell_type": "code",
   "execution_count": 148,
   "id": "de9a42b6",
   "metadata": {},
   "outputs": [],
   "source": [
    "vallist = sorted(dealvals['adjVal'].unique().tolist())"
   ]
  },
  {
   "cell_type": "code",
   "execution_count": 151,
   "id": "2a18b1f5",
   "metadata": {},
   "outputs": [],
   "source": [
    "handrank = []\n",
    "number = 0\n",
    "for x in vallist:\n",
    "    handrank.append(number)\n",
    "    number += 1"
   ]
  },
  {
   "cell_type": "code",
   "execution_count": 154,
   "id": "ce259706",
   "metadata": {},
   "outputs": [],
   "source": [
    "newvaldf = pd.DataFrame({'adjVal': vallist, 'Rank': handrank})"
   ]
  },
  {
   "cell_type": "code",
   "execution_count": 157,
   "id": "aab957a2",
   "metadata": {},
   "outputs": [],
   "source": [
    "dealvals = dealvals.merge(newvaldf, on = 'adjVal', how = 'left')"
   ]
  },
  {
   "cell_type": "code",
   "execution_count": 314,
   "id": "9164054c",
   "metadata": {},
   "outputs": [],
   "source": [
    "def FindDeal(notyet, pot, bet, num, *args):\n",
    "    a = args[0]\n",
    "    b = args[1]\n",
    "    new = dealvals[(dealvals['Deal'].astype(str).str.contains(a)) & (dealvals['Deal'].astype(str).str.contains(b))]['Rank'].iloc[0]\n",
    "    nextval = new-1\n",
    "    mx = dealvals['Rank'].max()\n",
    "    med = int(dealvals['Rank'].mean())\n",
    "    prob = (nextval/mx)**(num + .5*notyet)\n",
    "    xpot = (bet*notyet)*.5\n",
    "    if prob*(pot+xpot+bet) > bet:\n",
    "        return 'Bet', prob\n",
    "    else:\n",
    "        return 'Fold', prob"
   ]
  },
  {
   "cell_type": "code",
   "execution_count": 375,
   "id": "26bb0623",
   "metadata": {},
   "outputs": [],
   "source": [
    "notyet = 2"
   ]
  },
  {
   "cell_type": "code",
   "execution_count": 376,
   "id": "f85d53d3",
   "metadata": {},
   "outputs": [],
   "source": [
    "pot = 27\n",
    "bet = 12"
   ]
  },
  {
   "cell_type": "code",
   "execution_count": null,
   "id": "c4febe85",
   "metadata": {},
   "outputs": [],
   "source": [
    "numplay = 5"
   ]
  },
  {
   "cell_type": "code",
   "execution_count": 381,
   "id": "f6e1f2fd",
   "metadata": {},
   "outputs": [],
   "source": [
    "card1 = '6D'\n",
    "card2 = '3D'"
   ]
  },
  {
   "cell_type": "code",
   "execution_count": null,
   "id": "cfa6a038",
   "metadata": {},
   "outputs": [],
   "source": [
    "FindDeal2(numplay, card1, card2)"
   ]
  },
  {
   "cell_type": "code",
   "execution_count": 378,
   "id": "33e6a632",
   "metadata": {},
   "outputs": [
    {
     "data": {
      "text/plain": [
       "('Fold', 0.02845504233262182)"
      ]
     },
     "execution_count": 378,
     "metadata": {},
     "output_type": "execute_result"
    }
   ],
   "source": [
    "FindDeal(notyet, pot, bet, numplay, card1, card2)"
   ]
  },
  {
   "cell_type": "code",
   "execution_count": 264,
   "id": "20cbdda6",
   "metadata": {},
   "outputs": [],
   "source": [
    "def FindDeal2(num, *args):\n",
    "    a = args[0]\n",
    "    b = args[1]\n",
    "    new = dealvals[(dealvals['Deal'].astype(str).str.contains(a)) & (dealvals['Deal'].astype(str).str.contains(b))]['Rank'].iloc[0]\n",
    "    nextval = new-1\n",
    "    mx = dealvals['Rank'].max()\n",
    "    prob = (nextval/mx)**num\n",
    "    return prob"
   ]
  },
  {
   "cell_type": "code",
   "execution_count": 382,
   "id": "7bfb3cfc",
   "metadata": {},
   "outputs": [
    {
     "data": {
      "text/plain": [
       "3.0517578125e-05"
      ]
     },
     "execution_count": 382,
     "metadata": {},
     "output_type": "execute_result"
    }
   ],
   "source": [
    "FindDeal2(numplay, card1, card2)"
   ]
  },
  {
   "cell_type": "code",
   "execution_count": 217,
   "id": "1ed05e99",
   "metadata": {},
   "outputs": [
    {
     "data": {
      "text/plain": [
       "('Bet', 0.9133452364080553)"
      ]
     },
     "execution_count": 217,
     "metadata": {},
     "output_type": "execute_result"
    }
   ],
   "source": [
    "FindDeal(pot, bet, numplay, card1, card2)"
   ]
  }
 ],
 "metadata": {
  "kernelspec": {
   "display_name": "Python 3 (ipykernel)",
   "language": "python",
   "name": "python3"
  },
  "language_info": {
   "codemirror_mode": {
    "name": "ipython",
    "version": 3
   },
   "file_extension": ".py",
   "mimetype": "text/x-python",
   "name": "python",
   "nbconvert_exporter": "python",
   "pygments_lexer": "ipython3",
   "version": "3.10.9"
  }
 },
 "nbformat": 4,
 "nbformat_minor": 5
}
